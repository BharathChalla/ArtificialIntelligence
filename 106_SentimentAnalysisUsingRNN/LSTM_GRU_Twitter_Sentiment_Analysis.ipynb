{
 "cells": [
  {
   "cell_type": "markdown",
   "source": [
    "# Twitter Sentiment Analysis Using RNN"
   ],
   "metadata": {
    "collapsed": false
   }
  },
  {
   "cell_type": "code",
   "source": [
    "!nvidia-smi"
   ],
   "metadata": {
    "colab": {
     "base_uri": "https://localhost:8080/"
    },
    "id": "PCofMWa9XLRD",
    "outputId": "1dca2cbc-68ec-45a3-8c44-4bd110dc4f0f"
   },
   "execution_count": 1,
   "outputs": [
    {
     "output_type": "stream",
     "name": "stdout",
     "text": [
      "Mon Nov 21 17:06:31 2022       \r\n",
      "+-----------------------------------------------------------------------------+\r\n",
      "| NVIDIA-SMI 515.65.01    Driver Version: 515.65.01    CUDA Version: 11.7     |\r\n",
      "|-------------------------------+----------------------+----------------------+\r\n",
      "| GPU  Name        Persistence-M| Bus-Id        Disp.A | Volatile Uncorr. ECC |\r\n",
      "| Fan  Temp  Perf  Pwr:Usage/Cap|         Memory-Usage | GPU-Util  Compute M. |\r\n",
      "|                               |                      |               MIG M. |\r\n",
      "|===============================+======================+======================|\n",
      "|   0  NVIDIA A40          On   | 00000000:4B:00.0 Off |                    0 |\n",
      "|  0%   59C    P0    92W / 300W |      4MiB / 46068MiB |      0%      Default |\n",
      "|                               |                      |                  N/A |\n",
      "+-------------------------------+----------------------+----------------------+\n",
      "                                                                               \n",
      "+-----------------------------------------------------------------------------+\n",
      "| Processes:                                                                  |\n",
      "|  GPU   GI   CI        PID   Type   Process name                  GPU Memory |\n",
      "|        ID   ID                                                   Usage      |\n",
      "|=============================================================================|\n",
      "|    0   N/A  N/A      2203      G   /usr/lib/xorg/Xorg                  4MiB |\n",
      "+-----------------------------------------------------------------------------+\n"
     ]
    }
   ]
  },
  {
   "cell_type": "code",
   "source": [
    "import string\n",
    "from collections import Counter\n",
    "from string import punctuation\n",
    "\n",
    "import matplotlib.pyplot as plt\n",
    "import numpy as np\n",
    "import pandas as pd\n",
    "import torch\n",
    "from torch import nn\n",
    "from torch.utils.data import DataLoader, TensorDataset\n",
    "\n",
    "# Use GPU if available\n",
    "device = \"cuda:0\" if torch.cuda.is_available() else \"cpu\"\n",
    "print(f\"Using: {device}\")"
   ],
   "metadata": {
    "colab": {
     "base_uri": "https://localhost:8080/"
    },
    "id": "JwFPxAWwbvGq",
    "outputId": "2fbc135c-11b8-47f9-a9bf-e74b01ce8bc7"
   },
   "execution_count": 2,
   "outputs": [
    {
     "output_type": "stream",
     "name": "stdout",
     "text": [
      "Using: cuda:0\n"
     ]
    }
   ]
  },
  {
   "cell_type": "markdown",
   "source": [
    "## IMDB Movies Review Dataset"
   ],
   "metadata": {
    "id": "o_WWAXYSewmY"
   }
  },
  {
   "cell_type": "code",
   "source": [
    "# !wget -O training.1600000.processed.noemoticon.csv https://utdallas.app.box.com/shared/static/kw4a5e3lk00731kyho8kd2c6hwlr0t2m/\n",
    "# !curl -L \"https://utdallas.app.box.com/shared/static/kw4a5e3lk00731kyho8kd2c6hwlr0t2m/\" --output training.1600000.processed.noemoticon.csv"
   ],
   "metadata": {
    "colab": {
     "base_uri": "https://localhost:8080/"
    },
    "id": "dV1GiKWCrQFM",
    "outputId": "7b51e6ef-90dd-4992-d2b8-74e0c7cf1576"
   },
   "execution_count": 3,
   "outputs": [
    {
     "output_type": "stream",
     "name": "stdout",
     "text": [
      "--2022-11-21 17:06:33--  https://utdallas.app.box.com/shared/static/kw4a5e3lk00731kyho8kd2c6hwlr0t2m/\r\n",
      "Resolving utdallas.app.box.com (utdallas.app.box.com)... 74.112.186.144\r\n",
      "Connecting to utdallas.app.box.com (utdallas.app.box.com)|74.112.186.144|:443... connected.\n",
      "HTTP request sent, awaiting response... 301 Moved Permanently\n",
      "Location: /public/static/kw4a5e3lk00731kyho8kd2c6hwlr0t2m [following]\n",
      "--2022-11-21 17:06:33--  https://utdallas.app.box.com/public/static/kw4a5e3lk00731kyho8kd2c6hwlr0t2m\n",
      "Reusing existing connection to utdallas.app.box.com:443.\n",
      "HTTP request sent, awaiting response... 302 Found\n",
      "Location: https://dl2.boxcloud.com/d/1/b1!YQgULKDM8oWKm58BK2YhkMIxaRccIY8LhufI_t57opZ3iV3uk5Fo3TdkNOwomjZium_KTvKbRn_iLLNt1lM4qVmyS-PqBfq7MGoV4W_vCkkDFqJvVO-nZ3O5agsEIlEyur_CP7bgBcYlkhhBmpxntLeJPJmXzZIbGbhrWqxTi59515k0tfePbBD3fLytm1CegAKYsPFSid7toosS2i9mvTDdCiwPD4gYLF_BCbBJS6b1tmSjYarPOVgxgp33_ilKNoZ7v5FFvYEP6Rnb8MXQKMa57m0oRYxoXk5ysOqA0FFcuaj-AAwVKy-UhWgtiXZ8rK0FxvIMgD3QB3J_aSTMOVg1Vt-wVoW77Y7mFRg2XIGGi-uROle6mYI4chAuks8RaEaYgPQ4eOWKVau5-kfO0Q2p3-k6-SQ0KdxGJdqjsh9TZjlx_z74K9gdtKMPY1NRiVz1CS_oC2YBnzeRCPIjuUR_ld_Fyon3CcUPPCXp9he2rA2TU3spoyFJW0sQO_0L8ekjCk2vxY6V6RwXGNfMKA6f4ZhWo4AxGkLZdtybQgs_0PrP-excjYLXKD9LoAyqe3VPGQkjAGWL0ZgD2arRxmZHhNQXEu1v84Zva1LIN52wmk-EvRygpJszVhAVToRceFL_nzD30uU3QRmP8v7PoTMxOx18VyrVSRReAIgdRWY23VcNaIOeYfmOE2TWrlhZQPEHrlM5HeMln7A_H7Rh-mXB4Ei4oSyesMlXxOABE4165aVFAxP2pGhZM22WgPQneUL85WxNtjMp5ZIZUIWuY5mFVf-bMsyasbhPnuLj10aTHcIY64J-wj7fyT4yFhuR_qZQlDal5Z6mRRTcV_nLJDfNzpc8MamG-U23VJhxM_Go4yvIldEnOOdhZSWX9TY1OMPAGolC5UR9M7AJoh4Ob80qug8ONKey8zm-9HjCv6eCajO1K9MT-mNl6U-jK5YPfnOZgEB2_ea31Ov4lw79zvgIMxqfidKsEiimM3g_wk0POOKcIHqDTTbv0kk8BCHvcnUn2mbsz4K38m-z7Qd4NOGcuP9Me-UcdRDP6uOWmdIbfYaSgOPXFWJqldwTF1O-ZZVCM4pLq4gAdUZ8xR4sk0LH-CNVqYVNXWjBgNpHKEuz0kKdQ1D1VcJfq0fH55hwsHa1msXwpHCOh-KZ_HHDADj4A_rQKWA2upc9wUsUeWlINi5k5iaiAWFYhMMKc8Hnrsxn9OaKjVUBW3sh0RTehfLeXnFHTfk0TF2CzcsJVyDgza160op5PHX0f6qL8mr9XR1qnN5TzeiaxSp7SHqmMYeEq-fEKElVK1ceDUQKjPDQrZatZRPfuMAAM6f0fqU4mBwiP6FV29avf7BTcSlEk6wemm9TG7sD1TjuCyp02us4GaVbjMum7GSHM5GUuYYDRiA2b0zc4DYO/download [following]\n",
      "--2022-11-21 17:06:34--  https://dl2.boxcloud.com/d/1/b1!YQgULKDM8oWKm58BK2YhkMIxaRccIY8LhufI_t57opZ3iV3uk5Fo3TdkNOwomjZium_KTvKbRn_iLLNt1lM4qVmyS-PqBfq7MGoV4W_vCkkDFqJvVO-nZ3O5agsEIlEyur_CP7bgBcYlkhhBmpxntLeJPJmXzZIbGbhrWqxTi59515k0tfePbBD3fLytm1CegAKYsPFSid7toosS2i9mvTDdCiwPD4gYLF_BCbBJS6b1tmSjYarPOVgxgp33_ilKNoZ7v5FFvYEP6Rnb8MXQKMa57m0oRYxoXk5ysOqA0FFcuaj-AAwVKy-UhWgtiXZ8rK0FxvIMgD3QB3J_aSTMOVg1Vt-wVoW77Y7mFRg2XIGGi-uROle6mYI4chAuks8RaEaYgPQ4eOWKVau5-kfO0Q2p3-k6-SQ0KdxGJdqjsh9TZjlx_z74K9gdtKMPY1NRiVz1CS_oC2YBnzeRCPIjuUR_ld_Fyon3CcUPPCXp9he2rA2TU3spoyFJW0sQO_0L8ekjCk2vxY6V6RwXGNfMKA6f4ZhWo4AxGkLZdtybQgs_0PrP-excjYLXKD9LoAyqe3VPGQkjAGWL0ZgD2arRxmZHhNQXEu1v84Zva1LIN52wmk-EvRygpJszVhAVToRceFL_nzD30uU3QRmP8v7PoTMxOx18VyrVSRReAIgdRWY23VcNaIOeYfmOE2TWrlhZQPEHrlM5HeMln7A_H7Rh-mXB4Ei4oSyesMlXxOABE4165aVFAxP2pGhZM22WgPQneUL85WxNtjMp5ZIZUIWuY5mFVf-bMsyasbhPnuLj10aTHcIY64J-wj7fyT4yFhuR_qZQlDal5Z6mRRTcV_nLJDfNzpc8MamG-U23VJhxM_Go4yvIldEnOOdhZSWX9TY1OMPAGolC5UR9M7AJoh4Ob80qug8ONKey8zm-9HjCv6eCajO1K9MT-mNl6U-jK5YPfnOZgEB2_ea31Ov4lw79zvgIMxqfidKsEiimM3g_wk0POOKcIHqDTTbv0kk8BCHvcnUn2mbsz4K38m-z7Qd4NOGcuP9Me-UcdRDP6uOWmdIbfYaSgOPXFWJqldwTF1O-ZZVCM4pLq4gAdUZ8xR4sk0LH-CNVqYVNXWjBgNpHKEuz0kKdQ1D1VcJfq0fH55hwsHa1msXwpHCOh-KZ_HHDADj4A_rQKWA2upc9wUsUeWlINi5k5iaiAWFYhMMKc8Hnrsxn9OaKjVUBW3sh0RTehfLeXnFHTfk0TF2CzcsJVyDgza160op5PHX0f6qL8mr9XR1qnN5TzeiaxSp7SHqmMYeEq-fEKElVK1ceDUQKjPDQrZatZRPfuMAAM6f0fqU4mBwiP6FV29avf7BTcSlEk6wemm9TG7sD1TjuCyp02us4GaVbjMum7GSHM5GUuYYDRiA2b0zc4DYO/download\n",
      "Resolving dl2.boxcloud.com (dl2.boxcloud.com)... 74.112.186.128\n",
      "Connecting to dl2.boxcloud.com (dl2.boxcloud.com)|74.112.186.128|:443... connected.\n",
      "HTTP request sent, awaiting response... 200 OK\n",
      "Length: 238803811 (228M) [text/csv]\n",
      "Saving to: ‘training.1600000.processed.noemoticon.csv’\n",
      "\n",
      "training.1600000.pr 100%[===================>] 227.74M  21.3MB/s    in 12s     \n",
      "\n",
      "2022-11-21 17:06:46 (19.6 MB/s) - ‘training.1600000.processed.noemoticon.csv’ saved [238803811/238803811]\n",
      "\n"
     ]
    }
   ]
  },
  {
   "cell_type": "code",
   "source": [
    "m_cols = [\"target\", \"ids\", \"date\", \"flag\", \"user\", \"text\"]\n",
    "df_data = pd.read_csv(\"./training.1600000.processed.noemoticon.csv\", names=m_cols, encoding='latin-1')\n",
    "limited_data = False\n",
    "if limited_data:\n",
    "    count = 100000\n",
    "    neg_idx = 0\n",
    "    pos_idx = 800001\n",
    "    df = pd.concat([df_data[neg_idx:neg_idx + count], df_data[pos_idx:pos_idx + count]])\n",
    "else:\n",
    "    df = df_data\n",
    "data = df[[\"target\", \"text\"]]\n",
    "data = data[data[\"target\"] != 2]\n",
    "tweets = data[\"text\"].tolist()\n",
    "labels = data[\"target\"].tolist()"
   ],
   "metadata": {
    "id": "pB_SuGdHevlh"
   },
   "execution_count": 4,
   "outputs": []
  },
  {
   "cell_type": "code",
   "source": [
    "tweets = [str(tweet).lower().translate(str.maketrans('', '', string.punctuation)) for tweet in tweets]"
   ],
   "metadata": {
    "id": "La6ebGhHfUFO"
   },
   "execution_count": 5,
   "outputs": []
  },
  {
   "cell_type": "code",
   "source": [
    "from string import punctuation\n",
    "print(punctuation)"
   ],
   "metadata": {
    "colab": {
     "base_uri": "https://localhost:8080/"
    },
    "id": "D7RdiQh6fUXd",
    "outputId": "64c46b56-67ae-45d7-c6d5-d18cfba930bf"
   },
   "execution_count": 6,
   "outputs": [
    {
     "output_type": "stream",
     "name": "stdout",
     "text": [
      "!\"#$%&'()*+,-./:;<=>?@[\\]^_`{|}~\n"
     ]
    }
   ]
  },
  {
   "cell_type": "code",
   "source": [
    "all_tweets = ' '.join(tweets)\n",
    "# create a list of words\n",
    "words = all_tweets.split()\n",
    "# Count all the words using Counter Method\n",
    "count_words = Counter(words)\n",
    "\n",
    "total_words = len(words)\n",
    "sorted_words = count_words.most_common(total_words)\n",
    "print(count_words)"
   ],
   "metadata": {
    "colab": {
     "base_uri": "https://localhost:8080/"
    },
    "id": "dua-BzfwfUnE",
    "outputId": "a8452ee2-8d33-4243-c12a-84d6f326b03c"
   },
   "execution_count": 7,
   "outputs": [
    {
     "output_type": "stream",
     "name": "stderr",
     "text": [
      "IOPub data rate exceeded.\n",
      "The notebook server will temporarily stop sending output\n",
      "to the client in order to avoid crashing it.\n",
      "To change this limit, set the config variable\n",
      "`--NotebookApp.iopub_data_rate_limit`.\n",
      "\n",
      "Current values:\n",
      "NotebookApp.iopub_data_rate_limit=1000000.0 (bytes/sec)\n",
      "NotebookApp.rate_limit_window=3.0 (secs)\n",
      "\n"
     ]
    }
   ]
  },
  {
   "cell_type": "code",
   "source": [
    "print(count_words)"
   ],
   "metadata": {
    "colab": {
     "base_uri": "https://localhost:8080/"
    },
    "id": "zdTm3OQdflVE",
    "outputId": "08ae55ca-5439-49eb-c340-c534397e8a79"
   },
   "execution_count": 8,
   "outputs": [
    {
     "output_type": "stream",
     "name": "stderr",
     "text": [
      "IOPub data rate exceeded.\n",
      "The notebook server will temporarily stop sending output\n",
      "to the client in order to avoid crashing it.\n",
      "To change this limit, set the config variable\n",
      "`--NotebookApp.iopub_data_rate_limit`.\n",
      "\n",
      "Current values:\n",
      "NotebookApp.iopub_data_rate_limit=1000000.0 (bytes/sec)\n",
      "NotebookApp.rate_limit_window=3.0 (secs)\n",
      "\n"
     ]
    }
   ]
  },
  {
   "cell_type": "code",
   "source": [
    "UNK = 1\n",
    "vocab_to_int = {w: i + 2 for i, (w, c) in enumerate(sorted_words)}"
   ],
   "metadata": {
    "id": "I7NpY7f_fmal"
   },
   "execution_count": 9,
   "outputs": []
  },
  {
   "cell_type": "code",
   "source": [
    "print (vocab_to_int)"
   ],
   "metadata": {
    "colab": {
     "base_uri": "https://localhost:8080/"
    },
    "id": "0h1zqDpbfpfG",
    "outputId": "afa5e644-206d-4363-fc25-ecccde9c2f53"
   },
   "execution_count": 10,
   "outputs": [
    {
     "output_type": "stream",
     "name": "stderr",
     "text": [
      "IOPub data rate exceeded.\n",
      "The notebook server will temporarily stop sending output\n",
      "to the client in order to avoid crashing it.\n",
      "To change this limit, set the config variable\n",
      "`--NotebookApp.iopub_data_rate_limit`.\n",
      "\n",
      "Current values:\n",
      "NotebookApp.iopub_data_rate_limit=1000000.0 (bytes/sec)\n",
      "NotebookApp.rate_limit_window=3.0 (secs)\n",
      "\n"
     ]
    }
   ]
  },
  {
   "cell_type": "code",
   "source": [
    "tweets_int = []\n",
    "for tweet in tweets:\n",
    "    r = [vocab_to_int[w] if w in vocab_to_int else 1 for w in tweet.split()]\n",
    "    tweets_int.append(r)\n",
    "print(tweets_int[0:3])\n",
    "encoded_labels = [1 if label == 4 else 0 for label in labels]"
   ],
   "metadata": {
    "colab": {
     "base_uri": "https://localhost:8080/"
    },
    "id": "uxHyIMAyfpv1",
    "outputId": "be60ddf3-0281-419c-89ba-01de5e231c6b"
   },
   "execution_count": 11,
   "outputs": [
    {
     "output_type": "stream",
     "name": "stdout",
     "text": [
      "[[20177, 254587, 462, 103, 5, 1217, 8, 3540, 49, 874, 10240, 13, 1883, 32, 3, 41, 10, 447], [9, 781, 19, 108, 48, 543, 180, 547, 121, 2048, 10, 7, 285, 527, 78, 5, 2336, 146, 43, 262, 1198], [28049, 2, 110469, 310, 349, 11, 4, 1353, 1650, 3, 903, 1345, 4, 469, 39, 35, 13, 25889]]\n"
     ]
    }
   ]
  },
  {
   "cell_type": "code",
   "source": [
    "encoded_labels = [1 if label == 4 else 0 for label in labels]"
   ],
   "metadata": {
    "id": "kEv9y597fqCU"
   },
   "execution_count": 12,
   "outputs": []
  },
  {
   "cell_type": "code",
   "source": [
    "# %matplotlib inline\n",
    "tweets_len = [len(x) for x in tweets_int]\n",
    "pd.Series(tweets_len).hist()\n",
    "plt.show()\n",
    "pd.Series(tweets_len).describe()"
   ],
   "metadata": {
    "colab": {
     "base_uri": "https://localhost:8080/",
     "height": 586
    },
    "id": "6SUwWgoPgGO2",
    "outputId": "43385b0c-ac5c-4741-f0e4-83ecf1993fc6"
   },
   "execution_count": 13,
   "outputs": [
    {
     "output_type": "display_data",
     "data": {
      "text/plain": [
       "<Figure size 640x480 with 1 Axes>"
      ],
      "image/png": "[encoded data removed]"
     },
     "metadata": {}
    },
    {
     "output_type": "execute_result",
     "data": {
      "text/plain": [
       "count    1.600000e+06\n",
       "mean     1.303716e+01\n",
       "std      6.902189e+00\n",
       "min      1.000000e+00\n",
       "25%      7.000000e+00\n",
       "50%      1.200000e+01\n",
       "75%      1.800000e+01\n",
       "max      4.100000e+01\n",
       "dtype: float64"
      ]
     },
     "metadata": {},
     "execution_count": 13
    }
   ]
  },
  {
   "cell_type": "code",
   "source": [
    "tweets_int = [tweets_int[i] for i, l in enumerate(tweets_len) if l > 0]\n",
    "encoded_labels = [encoded_labels[i] for i, l in enumerate(tweets_len) if l > 0]\n",
    "encoded_labels = np.array(encoded_labels)\n",
    "print(encoded_labels)"
   ],
   "metadata": {
    "colab": {
     "base_uri": "https://localhost:8080/"
    },
    "id": "yq_fo0dJf0-s",
    "outputId": "add50f54-07f6-4e6e-b46c-abea2ab0d61d"
   },
   "execution_count": 14,
   "outputs": [
    {
     "output_type": "stream",
     "name": "stdout",
     "text": [
      "[0 0 0 ... 1 1 1]\n"
     ]
    }
   ]
  },
  {
   "cell_type": "code",
   "source": [
    "def pad_features(tweets_int, seq_length):\n",
    "    \"\"\"\n",
    "    Return features of review_ints, where each tweet is padded with 0's or\n",
    "    truncated to the input seq_length.\n",
    "    \"\"\"\n",
    "    features = np.zeros((len(tweets_int), seq_length), dtype=int)\n",
    "    new = []\n",
    "    for i, tweet in enumerate(tweets_int):\n",
    "        tweet_len = len(tweet)\n",
    "\n",
    "        if tweet_len <= seq_length:\n",
    "            zeroes = list(np.zeros(seq_length - tweet_len))\n",
    "            new = zeroes + tweet\n",
    "        elif tweet_len > seq_length:\n",
    "            new = tweet[0:seq_length]\n",
    "\n",
    "        features[i, :] = np.array(new)\n",
    "\n",
    "    return features"
   ],
   "metadata": {
    "id": "xhLeUcqogNDW"
   },
   "execution_count": 15,
   "outputs": []
  },
  {
   "cell_type": "code",
   "source": [
    "#batch_size = 50\n",
    "batch_size = 6000\n",
    "seq_length = 200\n",
    "drop_last = True"
   ],
   "metadata": {
    "id": "1Iqy8umFo97h"
   },
   "execution_count": 16,
   "outputs": []
  },
  {
   "cell_type": "code",
   "source": [
    "features = pad_features(tweets_int, seq_length)\n",
    "len_feat = len(features)\n",
    "print(features[:10, :])"
   ],
   "metadata": {
    "colab": {
     "base_uri": "https://localhost:8080/"
    },
    "id": "F8I0BKpipExg",
    "outputId": "e75a6174-d142-4be0-b532-a59cf5625696"
   },
   "execution_count": 17,
   "outputs": [
    {
     "output_type": "stream",
     "name": "stdout",
     "text": [
      "[[     0      0      0 ...     41     10    447]\n",
      " [     0      0      0 ...     43    262   1198]\n",
      " [     0      0      0 ...     35     13  25889]\n",
      " ...\n",
      " [     0      0      0 ...     76    798      8]\n",
      " [     0      0      0 ...    114     18     10]\n",
      " [     0      0      0 ...   2504     16 254589]]\n"
     ]
    }
   ]
  },
  {
   "cell_type": "code",
   "source": [],
   "metadata": {
    "id": "2M8uo6BGpFFY"
   },
   "execution_count": 17,
   "outputs": []
  },
  {
   "cell_type": "code",
   "source": [
    "split_frac = 0.8\n",
    "train_x = features[0:int(split_frac * len_feat)]\n",
    "train_y = encoded_labels[0:int(split_frac * len_feat)]\n",
    "remaining_x = features[int(split_frac * len_feat):]\n",
    "remaining_y = encoded_labels[int(split_frac * len_feat):]\n",
    "valid_x = remaining_x[0:int(len(remaining_x) * 0.5)]\n",
    "valid_y = remaining_y[0:int(len(remaining_y) * 0.5)]\n",
    "test_x = remaining_x[int(len(remaining_x) * 0.5):]\n",
    "test_y = remaining_y[int(len(remaining_y) * 0.5):]"
   ],
   "metadata": {
    "id": "3kY3qRSagQ_A"
   },
   "execution_count": 18,
   "outputs": []
  },
  {
   "cell_type": "code",
   "source": [
    "# create Tensor datasets\n",
    "train_data = TensorDataset(torch.from_numpy(train_x), torch.from_numpy(train_y))\n",
    "valid_data = TensorDataset(torch.from_numpy(valid_x), torch.from_numpy(valid_y))\n",
    "test_data = TensorDataset(torch.from_numpy(test_x), torch.from_numpy(test_y))"
   ],
   "metadata": {
    "id": "od6zT0UAgaqW"
   },
   "execution_count": 19,
   "outputs": []
  },
  {
   "cell_type": "code",
   "source": [
    "# dataloaders\n",
    "# make sure to SHUFFLE your data\n",
    "train_loader = DataLoader(train_data, shuffle=True, batch_size=batch_size, drop_last=drop_last)\n",
    "valid_loader = DataLoader(valid_data, shuffle=True, batch_size=batch_size, drop_last=drop_last)\n",
    "test_loader = DataLoader(test_data, shuffle=True, batch_size=batch_size, drop_last=drop_last)"
   ],
   "metadata": {
    "id": "uOq3XBMNhaJw"
   },
   "execution_count": 20,
   "outputs": []
  },
  {
   "cell_type": "code",
   "source": [],
   "metadata": {
    "id": "dl6mXqj6hado"
   },
   "execution_count": 20,
   "outputs": []
  },
  {
   "cell_type": "code",
   "source": [
    "# obtain one batch of training data\n",
    "dataiter = iter(train_loader)\n",
    "sample_x, sample_y = next(dataiter)\n",
    "print('Sample input size: ', sample_x.size())  # batch_size, seq_length\n",
    "print('Sample input: \\n', sample_x)\n",
    "print()\n",
    "print('Sample label size: ', sample_y.size())  # batch_size\n",
    "print('Sample label: \\n', sample_y)"
   ],
   "metadata": {
    "colab": {
     "base_uri": "https://localhost:8080/"
    },
    "id": "uE5yv2KLha1Q",
    "outputId": "f8fb8abf-b6b5-45fb-c0a5-f936537106b0"
   },
   "execution_count": 21,
   "outputs": [
    {
     "output_type": "stream",
     "name": "stdout",
     "text": [
      "Sample input size:  torch.Size([5000, 200])\n",
      "Sample input: \n",
      " tensor([[    0,     0,     0,  ...,    16,   120,   106],\n",
      "        [    0,     0,     0,  ...,   128,     5,   325],\n",
      "        [    0,     0,     0,  ...,     3,  3452,    43],\n",
      "        ...,\n",
      "        [    0,     0,     0,  ...,     5,    30,    32],\n",
      "        [    0,     0,     0,  ...,   713,    10, 14258],\n",
      "        [    0,     0,     0,  ...,    16,    38,    83]])\n",
      "\n",
      "Sample label size:  torch.Size([5000])\n",
      "Sample label: \n",
      " tensor([0, 0, 0,  ..., 1, 1, 0])\n"
     ]
    }
   ]
  },
  {
   "cell_type": "code",
   "source": [],
   "metadata": {
    "id": "6yiJXALJga_9"
   },
   "execution_count": 21,
   "outputs": []
  },
  {
   "cell_type": "markdown",
   "metadata": {
    "id": "Ik-l-mrLVBJx"
   },
   "source": [
    "# LSTM"
   ]
  },
  {
   "cell_type": "code",
   "source": [
    "class SentimentLSTM(nn.Module):\n",
    "    \"\"\"\n",
    "    The RNN model that will be used to perform Sentiment analysis.\n",
    "    \"\"\"\n",
    "\n",
    "    def __init__(self, vocab_size, output_size, embedding_dim, hidden_dim1,\n",
    "                 hidden_dim2, n_layers, drop_prob=0.5):\n",
    "        \"\"\"\n",
    "        Initialize the model by setting up the layers.\n",
    "        \"\"\"\n",
    "        super().__init__()\n",
    "\n",
    "        self.output_size = output_size\n",
    "        self.n_layers = n_layers\n",
    "        self.hidden_dim1 = hidden_dim1\n",
    "        self.hidden_dim2 = hidden_dim2\n",
    "\n",
    "        # embedding and LSTM layers\n",
    "        self.embedding = nn.Embedding(vocab_size, embedding_dim)\n",
    "        self.lstm = nn.LSTM(embedding_dim, hidden_dim1, n_layers,\n",
    "                            dropout=drop_prob, batch_first=True)\n",
    "\n",
    "        # dropout layer\n",
    "        self.dropout = nn.Dropout(0.3)\n",
    "\n",
    "        # FC linear and ReLU layers\n",
    "        self.fc1 = nn.Linear(hidden_dim1, hidden_dim2)\n",
    "        self.relu = nn.ReLU()\n",
    "\n",
    "        # linear and sigmoid layers\n",
    "        self.fc2 = nn.Linear(hidden_dim2, output_size)\n",
    "        self.sig = nn.Sigmoid()\n",
    "\n",
    "    def forward(self, x, hidden):\n",
    "        \"\"\"\n",
    "        Perform a forward pass of our model on some input and hidden state.\n",
    "        \"\"\"\n",
    "        batch_size = x.size(0)\n",
    "\n",
    "        # embeddings and lstm_out\n",
    "        embeds = self.embedding(x)\n",
    "        lstm_out, hidden = self.lstm(embeds, hidden)\n",
    "\n",
    "        # stack up lstm outputs\n",
    "        lstm_out = lstm_out.contiguous().view(-1, self.hidden_dim1)\n",
    "\n",
    "        # dropout and fully-connected layer\n",
    "        out = self.dropout(lstm_out)\n",
    "        out = self.fc1(out)\n",
    "\n",
    "        # relu activation\n",
    "        out = self.relu(out)\n",
    "\n",
    "        out = self.fc2(out)\n",
    "        # sigmoid function\n",
    "        sig_out = self.sig(out)\n",
    "\n",
    "        # reshape to be batch_size first\n",
    "        sig_out = sig_out.view(batch_size, -1)\n",
    "        sig_out = sig_out[:, -1]  # get last batch of labels\n",
    "\n",
    "        # return last sigmoid output and hidden state\n",
    "        return sig_out, hidden\n",
    "\n",
    "    def init_hidden(self, batch_size):\n",
    "        \"\"\" Initializes hidden state \"\"\"\n",
    "        # Create two new tensors with sizes n_layers x batch_size x hidden_dim,\n",
    "        # initialized to zero, for hidden state and cell state of LSTM\n",
    "        weight = next(self.parameters()).data\n",
    "        hidden = (weight.new(self.n_layers, batch_size, self.hidden_dim1).zero_().to(device),\n",
    "                  weight.new(self.n_layers, batch_size, self.hidden_dim1).zero_().to(device))\n",
    "        return hidden"
   ],
   "metadata": {
    "id": "rwNxntFYw874"
   },
   "execution_count": 22,
   "outputs": []
  },
  {
   "cell_type": "code",
   "source": [
    "# Instantiate the model w/ hyperparams\n",
    "vocab_size = len(vocab_to_int) + 2  # +2 for the 0 padding, 1 UNKNOWN\n",
    "embedding_dim = 400\n",
    "hidden_dim1 = 256\n",
    "hidden_dim2 = 128\n",
    "output_size = 1\n",
    "n_layers = 2\n",
    "\n",
    "# training params\n",
    "lr = 0.001\n",
    "epochs = 4  # 3-4 is approx where I noticed the validation loss stop decreasing\n",
    "counter = 0\n",
    "print_every = 100\n",
    "clip = 5  # gradient clipping\n",
    "\n",
    "model = SentimentLSTM(vocab_size, output_size, embedding_dim, hidden_dim1, hidden_dim2, n_layers)\n",
    "print(model)\n",
    "\n",
    "# loss and optimization functions\n",
    "criterion = nn.BCELoss()\n",
    "optimizer = torch.optim.Adam(model.parameters(), lr=lr)"
   ],
   "metadata": {
    "colab": {
     "base_uri": "https://localhost:8080/"
    },
    "id": "2jwN5L9oXqVj",
    "outputId": "128e18f6-64d9-446c-f407-64c2a88c46c1"
   },
   "execution_count": 23,
   "outputs": [
    {
     "output_type": "stream",
     "name": "stdout",
     "text": [
      "SentimentLSTM(\n",
      "  (embedding): Embedding(850173, 400)\n",
      "  (lstm): LSTM(400, 256, num_layers=2, batch_first=True, dropout=0.5)\n",
      "  (dropout): Dropout(p=0.3, inplace=False)\n",
      "  (fc1): Linear(in_features=256, out_features=128, bias=True)\n",
      "  (relu): ReLU()\n",
      "  (fc2): Linear(in_features=128, out_features=1, bias=True)\n",
      "  (sig): Sigmoid()\n",
      ")\n"
     ]
    }
   ]
  },
  {
   "cell_type": "code",
   "source": [
    "# move model to GPU, if available\n",
    "model = model.to(device)\n",
    "\n",
    "valid_loss_min = np.Inf\n",
    "\n",
    "model.train()\n",
    "# train for some number of epochs\n",
    "for e in range(epochs):\n",
    "    # initialize hidden state\n",
    "    h = model.init_hidden(batch_size)\n",
    "\n",
    "    # batch loop\n",
    "    for inputs, labels in train_loader:\n",
    "        counter += 1\n",
    "\n",
    "        # Creating new variables for the hidden state, otherwise\n",
    "        # we'd backprop through the entire training history\n",
    "        h = tuple([each.data for each in h])\n",
    "\n",
    "        # zero accumulated gradients\n",
    "        model.zero_grad()\n",
    "\n",
    "        # get the output from the model\n",
    "        inputs = inputs.type(torch.LongTensor)\n",
    "        inputs, labels = inputs.to(device), labels.to(device)\n",
    "        output, h = model(inputs, h)\n",
    "\n",
    "        # calculate the loss and perform backprop\n",
    "        loss = criterion(output.squeeze(), labels.float())\n",
    "        loss.backward()\n",
    "        # `clip_grad_norm` helps prevent the exploding gradient problem in RNNs / LSTMs.\n",
    "        nn.utils.clip_grad_norm_(model.parameters(), clip)\n",
    "        optimizer.step()\n",
    "\n",
    "        # loss stats\n",
    "        if counter % print_every == 0:\n",
    "            # Get validation loss\n",
    "            val_h = model.init_hidden(batch_size)\n",
    "            val_losses = []\n",
    "            model.eval()\n",
    "            for inputs, labels in valid_loader:\n",
    "                # Creating new variables for the hidden state, otherwise\n",
    "                # we'd backprop through the entire training history\n",
    "                val_h = tuple([each.data for each in val_h])\n",
    "\n",
    "                inputs = inputs.type(torch.LongTensor)\n",
    "                inputs, labels = inputs.to(device), labels.to(device)\n",
    "                output, val_h = model(inputs, val_h)\n",
    "                val_loss = criterion(output.squeeze(), labels.float())\n",
    "\n",
    "                val_losses.append(val_loss.item())\n",
    "\n",
    "            model.train()\n",
    "            print(\"Epoch: {}/{}...\".format(e + 1, epochs),\n",
    "                  \"Step: {}...\".format(counter),\n",
    "                  \"Loss: {:.6f}...\".format(loss.item()),\n",
    "                  \"Val Loss: {:.6f}\".format(np.mean(val_losses)))\n",
    "            if np.mean(val_losses) <= valid_loss_min:\n",
    "                torch.save(model.state_dict(), './lstm_state_dict.pt')\n",
    "                print('Validation loss decreased ({:.6f} --> {:.6f}).  Saving model ...'.format(valid_loss_min,np.mean(val_losses)))\n",
    "                valid_loss_min = np.mean(val_losses)"
   ],
   "metadata": {
    "colab": {
     "base_uri": "https://localhost:8080/"
    },
    "id": "vRJrG6GgXrAS",
    "outputId": "2134014d-7600-4919-d7bb-b1d513b57f63"
   },
   "execution_count": 24,
   "outputs": [
    {
     "output_type": "stream",
     "name": "stdout",
     "text": [
      "Epoch: 1/4... Step: 100... Loss: 0.436668... Val Loss: 0.691436\n",
      "Validation loss decreased (inf --> 0.691436).  Saving model ...\n",
      "Epoch: 1/4... Step: 200... Loss: 0.397160... Val Loss: 0.645828\n",
      "Validation loss decreased (0.691436 --> 0.645828).  Saving model ...\n",
      "Epoch: 2/4... Step: 300... Loss: 0.376070... Val Loss: 0.593196\n",
      "Validation loss decreased (0.645828 --> 0.593196).  Saving model ...\n",
      "Epoch: 2/4... Step: 400... Loss: 0.363025... Val Loss: 0.555839\n",
      "Validation loss decreased (0.593196 --> 0.555839).  Saving model ...\n",
      "Epoch: 2/4... Step: 500... Loss: 0.348109... Val Loss: 0.563711\n",
      "Epoch: 3/4... Step: 600... Loss: 0.329400... Val Loss: 0.563726\n",
      "Epoch: 3/4... Step: 700... Loss: 0.325752... Val Loss: 0.508574\n",
      "Validation loss decreased (0.555839 --> 0.508574).  Saving model ...\n",
      "Epoch: 4/4... Step: 800... Loss: 0.288925... Val Loss: 0.688716\n",
      "Epoch: 4/4... Step: 900... Loss: 0.271377... Val Loss: 0.685350\n",
      "Epoch: 4/4... Step: 1000... Loss: 0.288123... Val Loss: 0.630765\n"
     ]
    }
   ]
  },
  {
   "cell_type": "code",
   "source": [
    "def print_data_accuracy(model, data_loader, data_type='Test'):\n",
    "    # Get test data loss and accuracy\n",
    "    data_losses = []  # track loss\n",
    "    num_correct = 0\n",
    "\n",
    "    # init hidden state\n",
    "    h = model.init_hidden(batch_size)\n",
    "\n",
    "    model.eval()\n",
    "    # iterate over test data\n",
    "    for inputs, labels in data_loader:\n",
    "        # Creating new variables for the hidden state, otherwise\n",
    "        # we'd backprop through the entire training history\n",
    "        h = tuple([each.data for each in h])\n",
    "\n",
    "        # get predicted outputs\n",
    "        inputs = inputs.type(torch.LongTensor)\n",
    "        inputs, labels = inputs.to(device), labels.to(device)\n",
    "        output, h = model(inputs, h)\n",
    "\n",
    "        # calculate loss\n",
    "        data_loss = criterion(output.squeeze(), labels.float())\n",
    "        data_losses.append(data_loss.item())\n",
    "\n",
    "        # convert output probabilities to predicted class (0 or 1)\n",
    "        pred = torch.round(output.squeeze())  # rounds to the nearest integer\n",
    "\n",
    "        # compare predictions to true label\n",
    "        correct_tensor = pred.eq(labels.float().view_as(pred))\n",
    "        correct = np.squeeze(correct_tensor.detach().cpu().numpy())\n",
    "        num_correct += np.sum(correct)\n",
    "\n",
    "    # -- stats! -- ##\n",
    "    # avg data loss\n",
    "    print(f\"{data_type} loss: {np.mean(data_losses):.3f}\")\n",
    "\n",
    "    # accuracy over all the data\n",
    "    data_acc = num_correct / len(data_loader.dataset)\n",
    "    print(f\"{data_type} accuracy: {data_acc:.3f}\")\n",
    "    print()"
   ],
   "metadata": {
    "id": "ME7IXKrWiGrf"
   },
   "execution_count": 25,
   "outputs": []
  },
  {
   "cell_type": "code",
   "source": [
    "# Loading the best model\n",
    "model.load_state_dict(torch.load('./lstm_state_dict.pt'))"
   ],
   "metadata": {
    "colab": {
     "base_uri": "https://localhost:8080/"
    },
    "id": "-WibDGOepjqu",
    "outputId": "4ec46fe6-4113-4efc-8bd7-4eeca6258804"
   },
   "execution_count": 26,
   "outputs": [
    {
     "output_type": "execute_result",
     "data": {
      "text/plain": [
       "<All keys matched successfully>"
      ]
     },
     "metadata": {},
     "execution_count": 26
    }
   ]
  },
  {
   "cell_type": "code",
   "source": [
    "print(f\"\\nLSTM - Twitter 1,600,000 Data Accuracies: \")\n",
    "print_data_accuracy(model, train_loader, data_type=\"Train\")\n",
    "print_data_accuracy(model, valid_loader, data_type=\"Valid\")\n",
    "print_data_accuracy(model, test_loader, data_type=\"Test\")"
   ],
   "metadata": {
    "colab": {
     "base_uri": "https://localhost:8080/"
    },
    "id": "f5PdNiBviQrf",
    "outputId": "00895f43-ebfb-49cb-d1b7-ee78129a5be3"
   },
   "execution_count": 27,
   "outputs": [
    {
     "output_type": "stream",
     "name": "stdout",
     "text": [
      "\n",
      "LSTM - Twitter 1,600,000 Data Accuracies: \n",
      "Train loss: 0.288\n",
      "Train accuracy: 0.880\n",
      "\n",
      "Valid loss: 0.509\n",
      "Valid accuracy: 0.763\n",
      "\n",
      "Test loss: 0.537\n",
      "Test accuracy: 0.752\n",
      "\n"
     ]
    }
   ]
  },
  {
   "cell_type": "code",
   "source": [],
   "metadata": {
    "id": "s4TVQPVoiYFv"
   },
   "execution_count": 27,
   "outputs": []
  },
  {
   "cell_type": "markdown",
   "source": [
    "# GRU"
   ],
   "metadata": {
    "id": "T4zqs6Mjw-ep"
   }
  },
  {
   "cell_type": "code",
   "source": [
    "class SentimentGRU(nn.Module):\n",
    "    \"\"\"\n",
    "    The RNN model that will be used to perform Sentiment analysis.\n",
    "    \"\"\"\n",
    "\n",
    "    def __init__(self, vocab_size, output_size, embedding_dim, hidden_dim1,\n",
    "                 hidden_dim2, n_layers, drop_prob=0.5):\n",
    "        \"\"\"\n",
    "        Initialize the model by setting up the layers.\n",
    "        \"\"\"\n",
    "        super().__init__()\n",
    "\n",
    "        self.output_size = output_size\n",
    "        self.n_layers = n_layers\n",
    "        self.hidden_dim1 = hidden_dim1\n",
    "        self.hidden_dim2 = hidden_dim2\n",
    "\n",
    "        # embedding and GRU layers\n",
    "        self.embedding = nn.Embedding(vocab_size, embedding_dim)\n",
    "        self.gru = nn.GRU(embedding_dim, hidden_dim1, n_layers,\n",
    "                            dropout=drop_prob, batch_first=True)\n",
    "\n",
    "        # dropout layer\n",
    "        self.dropout = nn.Dropout(0.3)\n",
    "\n",
    "        # FC linear and ReLU layers\n",
    "        self.fc1 = nn.Linear(hidden_dim1, hidden_dim2)\n",
    "        self.relu = nn.ReLU()\n",
    "\n",
    "        # linear and sigmoid layers\n",
    "        self.fc2 = nn.Linear(hidden_dim2, output_size)\n",
    "        self.sig = nn.Sigmoid()\n",
    "\n",
    "    def forward(self, x, hidden):\n",
    "        \"\"\"\n",
    "        Perform a forward pass of our model on some input and hidden state.\n",
    "        \"\"\"\n",
    "        batch_size = x.size(0)\n",
    "\n",
    "        # embeddings and gru_out\n",
    "        embeds = self.embedding(x)\n",
    "        gru_out, hidden = self.gru(embeds, hidden)\n",
    "\n",
    "        # stack up gru outputs\n",
    "        gru_out = gru_out.contiguous().view(-1, self.hidden_dim1)\n",
    "\n",
    "        # dropout and fully-connected layer\n",
    "        out = self.dropout(gru_out)\n",
    "        out = self.fc1(out)\n",
    "\n",
    "        # relu activation\n",
    "        out = self.relu(out)\n",
    "\n",
    "        out = self.fc2(out)\n",
    "        # sigmoid function\n",
    "        sig_out = self.sig(out)\n",
    "\n",
    "        # reshape to be batch_size first\n",
    "        sig_out = sig_out.view(batch_size, -1)\n",
    "        sig_out = sig_out[:, -1]  # get last batch of labels\n",
    "\n",
    "        # return last sigmoid output and hidden state\n",
    "        return sig_out, hidden\n",
    "\n",
    "    def init_hidden(self, batch_size):\n",
    "        \"\"\" Initializes hidden state \"\"\"\n",
    "        # Create two new tensors with sizes n_layers x batch_size x hidden_dim,\n",
    "        # initialized to zero, for hidden state and cell state of GRU\n",
    "        weight = next(self.parameters()).data\n",
    "        hidden = weight.new(self.n_layers, batch_size, self.hidden_dim1).zero_().to(device)\n",
    "        return hidden"
   ],
   "metadata": {
    "id": "BbBmPhrDw_07"
   },
   "execution_count": 28,
   "outputs": []
  },
  {
   "cell_type": "code",
   "source": [
    "# Instantiate the model w/ hyperparams\n",
    "vocab_size = len(vocab_to_int) + 2  # +2 for the 0 padding, 1 UNKNOWN\n",
    "embedding_dim = 400\n",
    "hidden_dim1 = 256\n",
    "hidden_dim2 = 128\n",
    "output_size = 1\n",
    "n_layers = 2\n",
    "\n",
    "# training params\n",
    "lr = 0.001\n",
    "epochs = 4  # 3-4 is approx where I noticed the validation loss stop decreasing\n",
    "counter = 0\n",
    "print_every = 100\n",
    "clip = 5  # gradient clipping\n",
    "\n",
    "model = SentimentGRU(vocab_size, output_size, embedding_dim, hidden_dim1, hidden_dim2, n_layers)\n",
    "print(model)\n",
    "\n",
    "# loss and optimization functions\n",
    "criterion = nn.BCELoss()\n",
    "optimizer = torch.optim.Adam(model.parameters(), lr=lr)"
   ],
   "metadata": {
    "colab": {
     "base_uri": "https://localhost:8080/"
    },
    "id": "zJpVv0U1q3Z6",
    "outputId": "20d39fa3-6469-41ca-94f7-203f664652e3"
   },
   "execution_count": 29,
   "outputs": [
    {
     "output_type": "stream",
     "name": "stdout",
     "text": [
      "SentimentGRU(\n",
      "  (embedding): Embedding(850173, 400)\n",
      "  (gru): GRU(400, 256, num_layers=2, batch_first=True, dropout=0.5)\n",
      "  (dropout): Dropout(p=0.3, inplace=False)\n",
      "  (fc1): Linear(in_features=256, out_features=128, bias=True)\n",
      "  (relu): ReLU()\n",
      "  (fc2): Linear(in_features=128, out_features=1, bias=True)\n",
      "  (sig): Sigmoid()\n",
      ")\n"
     ]
    }
   ]
  },
  {
   "cell_type": "code",
   "source": [
    "# move model to GPU, if available\n",
    "model = model.to(device)\n",
    "\n",
    "valid_loss_min = np.Inf\n",
    "\n",
    "model.train()\n",
    "# train for some number of epochs\n",
    "for e in range(epochs):\n",
    "    # initialize hidden state\n",
    "    h = model.init_hidden(batch_size)\n",
    "\n",
    "    # batch loop\n",
    "    for inputs, labels in train_loader:\n",
    "        counter += 1\n",
    "\n",
    "        # Creating new variables for the hidden state, otherwise\n",
    "        # we'd backprop through the entire training history\n",
    "        # h = tuple([each.data for each in h])\n",
    "        h = h.data\n",
    "\n",
    "        inputs = inputs.type(torch.LongTensor)\n",
    "        inputs, labels = inputs.to(device), labels.to(device)\n",
    "\n",
    "        # zero accumulated gradients\n",
    "        model.zero_grad()\n",
    "\n",
    "        # get the output from the model\n",
    "        output, h = model(inputs, h)\n",
    "\n",
    "        # calculate the loss and perform backprop\n",
    "        loss = criterion(output.squeeze(), labels.float())\n",
    "        loss.backward()\n",
    "        # `clip_grad_norm` helps prevent the exploding gradient problem in RNNs / LSTMs.\n",
    "        nn.utils.clip_grad_norm_(model.parameters(), clip)\n",
    "        optimizer.step()\n",
    "\n",
    "        # loss stats\n",
    "        if counter % print_every == 0:\n",
    "            # Get validation loss\n",
    "            val_h = model.init_hidden(batch_size)\n",
    "            val_losses = []\n",
    "            model.eval()\n",
    "            for inputs, labels in valid_loader:\n",
    "                # Creating new variables for the hidden state, otherwise\n",
    "                # we'd backprop through the entire training history\n",
    "                val_h = val_h.data\n",
    "\n",
    "                inputs = inputs.type(torch.LongTensor)\n",
    "                inputs, labels = inputs.to(device), labels.to(device)\n",
    "\n",
    "                output, val_h = model(inputs, val_h)\n",
    "\n",
    "                val_loss = criterion(output.squeeze(), labels.float())\n",
    "                val_losses.append(val_loss.item())\n",
    "\n",
    "            model.train()\n",
    "            print(\"Epoch: {}/{}...\".format(e + 1, epochs),\n",
    "                  \"Step: {}...\".format(counter),\n",
    "                  \"Loss: {:.6f}...\".format(loss.item()),\n",
    "                  \"Val Loss: {:.6f}\".format(np.mean(val_losses)))\n",
    "            \n",
    "            if np.mean(val_losses) <= valid_loss_min:\n",
    "                torch.save(model.state_dict(), './gru_state_dict.pt')\n",
    "                print('Validation loss decreased ({:.6f} --> {:.6f}).  Saving model ...'.format(valid_loss_min,np.mean(val_losses)))\n",
    "                valid_loss_min = np.mean(val_losses)"
   ],
   "metadata": {
    "colab": {
     "base_uri": "https://localhost:8080/"
    },
    "id": "bjN0R1qtq4Hf",
    "outputId": "2c3ecab5-6756-4fe9-e681-d7939abf3119"
   },
   "execution_count": 30,
   "outputs": [
    {
     "output_type": "stream",
     "name": "stdout",
     "text": [
      "Epoch: 1/4... Step: 100... Loss: 0.441532... Val Loss: 0.711466\n",
      "Validation loss decreased (inf --> 0.711466).  Saving model ...\n",
      "Epoch: 1/4... Step: 200... Loss: 0.406568... Val Loss: 0.616920\n",
      "Validation loss decreased (0.711466 --> 0.616920).  Saving model ...\n",
      "Epoch: 2/4... Step: 300... Loss: 0.367989... Val Loss: 0.522253\n",
      "Validation loss decreased (0.616920 --> 0.522253).  Saving model ...\n",
      "Epoch: 2/4... Step: 400... Loss: 0.359478... Val Loss: 0.563472\n",
      "Epoch: 2/4... Step: 500... Loss: 0.367941... Val Loss: 0.580040\n",
      "Epoch: 3/4... Step: 600... Loss: 0.325200... Val Loss: 0.592292\n",
      "Epoch: 3/4... Step: 700... Loss: 0.351810... Val Loss: 0.595815\n",
      "Epoch: 4/4... Step: 800... Loss: 0.276123... Val Loss: 0.597794\n",
      "Epoch: 4/4... Step: 900... Loss: 0.278023... Val Loss: 0.679470\n",
      "Epoch: 4/4... Step: 1000... Loss: 0.280708... Val Loss: 0.603732\n"
     ]
    }
   ]
  },
  {
   "cell_type": "code",
   "source": [
    "# Loading the best model GRU\n",
    "model.load_state_dict(torch.load('./gru_state_dict.pt'))"
   ],
   "metadata": {
    "colab": {
     "base_uri": "https://localhost:8080/"
    },
    "id": "mjh_mRhU9Lmi",
    "outputId": "673117bc-2273-491d-9d78-7880da0f491d"
   },
   "execution_count": 31,
   "outputs": [
    {
     "output_type": "execute_result",
     "data": {
      "text/plain": [
       "<All keys matched successfully>"
      ]
     },
     "metadata": {},
     "execution_count": 31
    }
   ]
  },
  {
   "cell_type": "code",
   "source": [
    "def print_data_accuracy(model, data_loader, data_type='Test'):\n",
    "    # Get test data loss and accuracy\n",
    "    data_losses = []  # track loss\n",
    "    num_correct = 0\n",
    "\n",
    "    # init hidden state\n",
    "    h = model.init_hidden(batch_size)\n",
    "\n",
    "    model.eval()\n",
    "    # iterate over test data\n",
    "    for inputs, labels in data_loader:\n",
    "        # Creating new variables for the hidden state, otherwise\n",
    "        # we'd backprop through the entire training history\n",
    "        h = h.data\n",
    "\n",
    "        # get predicted outputs\n",
    "        inputs = inputs.type(torch.LongTensor)\n",
    "        inputs, labels = inputs.to(device), labels.to(device)\n",
    "        output, h = model(inputs, h)\n",
    "\n",
    "        # calculate loss\n",
    "        data_loss = criterion(output.squeeze(), labels.float())\n",
    "        data_losses.append(data_loss.item())\n",
    "\n",
    "        # convert output probabilities to predicted class (0 or 1)\n",
    "        pred = torch.round(output.squeeze())  # rounds to the nearest integer\n",
    "\n",
    "        # compare predictions to true label\n",
    "        correct_tensor = pred.eq(labels.float().view_as(pred))\n",
    "        correct = np.squeeze(correct_tensor.detach().cpu().numpy())\n",
    "        num_correct += np.sum(correct)\n",
    "\n",
    "    # -- stats! -- ##\n",
    "    # avg data loss\n",
    "    print(f\"{data_type} loss: {np.mean(data_losses):.3f}\")\n",
    "\n",
    "    # accuracy over all the data\n",
    "    data_acc = num_correct / len(data_loader.dataset)\n",
    "    print(f\"{data_type} accuracy: {data_acc:.3f}\")\n",
    "    print()"
   ],
   "metadata": {
    "id": "EDRB8oja9VzJ"
   },
   "execution_count": 32,
   "outputs": []
  },
  {
   "cell_type": "code",
   "source": [
    "print(f\"\\nGRU - Twitter 1,600,000 Data Accuracies: \")\n",
    "print_data_accuracy(model, train_loader, data_type=\"Train\")\n",
    "print_data_accuracy(model, valid_loader, data_type=\"Valid\")\n",
    "print_data_accuracy(model, test_loader, data_type=\"Test\")"
   ],
   "metadata": {
    "colab": {
     "base_uri": "https://localhost:8080/"
    },
    "id": "1s-92Iuxq4Xv",
    "outputId": "c158b2a2-aa0e-4e95-8497-434ad4db5d98"
   },
   "execution_count": 33,
   "outputs": [
    {
     "output_type": "stream",
     "name": "stdout",
     "text": [
      "\n",
      "GRU - Twitter 1,600,000 Data Accuracies: \n",
      "Train loss: 0.367\n",
      "Train accuracy: 0.838\n",
      "\n",
      "Valid loss: 0.522\n",
      "Valid accuracy: 0.737\n",
      "\n",
      "Test loss: 0.539\n",
      "Test accuracy: 0.727\n",
      "\n"
     ]
    }
   ]
  },
  {
   "cell_type": "code",
   "source": [],
   "metadata": {
    "id": "uIa7AueSq4nD"
   },
   "execution_count": 33,
   "outputs": []
  },
  {
   "cell_type": "markdown",
   "source": [
    "## Sample Test Tokenizer and Features"
   ],
   "metadata": {
    "id": "T007EAWqrMeM"
   }
  },
  {
   "cell_type": "code",
   "source": [
    "def tokenize_review(test_review):\n",
    "    test_review = test_review.lower()  # lowercase\n",
    "    # get rid of punctuation\n",
    "    test_text = ''.join([c for c in test_review if c not in punctuation])\n",
    "\n",
    "    # splitting by spaces\n",
    "    test_words = test_text.split()\n",
    "\n",
    "    # tokens\n",
    "    test_ints = []\n",
    "    test_ints.append([vocab_to_int[word] if word in vocab_to_int else 1 for word in test_words])\n",
    "\n",
    "    return test_ints\n",
    "\n",
    "\n",
    "def predict(net, test_review, sequence_length=200):\n",
    "    net.eval()\n",
    "\n",
    "    # tokenize review\n",
    "    test_ints = tokenize_review(test_review)\n",
    "\n",
    "    # pad tokenized sequence\n",
    "    seq_length = sequence_length\n",
    "    features = pad_features(test_ints, seq_length)\n",
    "\n",
    "    # convert to tensor to pass into your model\n",
    "    feature_tensor = torch.from_numpy(features)\n",
    "\n",
    "    batch_size = feature_tensor.size(0)\n",
    "\n",
    "    # initialize hidden state\n",
    "    h = net.init_hidden(batch_size)\n",
    "\n",
    "    feature_tensor = feature_tensor.to(device)\n",
    "\n",
    "    # get the output from the model\n",
    "    output, h = net(feature_tensor, h)\n",
    "\n",
    "    # convert output probabilities to predicted class (0 or 1)\n",
    "    pred = torch.round(output.squeeze())\n",
    "    # printing output value, before rounding\n",
    "    print('Prediction value, pre-rounding: {:.6f}'.format(output.item()))\n",
    "\n",
    "    # print custom response\n",
    "    if pred.item() == 1:\n",
    "        print(\"Positive review detected!\")\n",
    "    else:\n",
    "        print(\"Negative review detected.\")\n",
    "\n",
    "\n",
    "test_review = 'This movie had the best acting and the dialogue was so good. I loved it.'\n",
    "seq_length = 200  # good to use the length that was trained on\n",
    "predict(model, test_review, seq_length)\n",
    "\n",
    "# test code and generate tokenized review\n",
    "test_ints = tokenize_review(test_review)\n",
    "print(test_ints)\n",
    "\n",
    "# test sequence padding\n",
    "seq_length = 200\n",
    "features = pad_features(test_ints, seq_length)\n",
    "\n",
    "print(features)\n",
    "\n",
    "# test conversion to tensor and pass into your model\n",
    "feature_tensor = torch.from_numpy(features)\n",
    "print(feature_tensor.size())"
   ],
   "metadata": {
    "colab": {
     "base_uri": "https://localhost:8080/"
    },
    "id": "-dqTKiHlq45D",
    "outputId": "46878cec-f3f1-4797-8662-104c2c9969dd"
   },
   "execution_count": 34,
   "outputs": [
    {
     "output_type": "stream",
     "name": "stdout",
     "text": [
      "Prediction value, pre-rounding: 0.982435\n",
      "Positive review detected!\n",
      "[[28, 218, 63, 4, 169, 1881, 7, 4, 12507, 27, 17, 30, 2, 522, 10]]\n",
      "[[    0     0     0     0     0     0     0     0     0     0     0     0\n",
      "      0     0     0     0     0     0     0     0     0     0     0     0\n",
      "      0     0     0     0     0     0     0     0     0     0     0     0\n",
      "      0     0     0     0     0     0     0     0     0     0     0     0\n",
      "      0     0     0     0     0     0     0     0     0     0     0     0\n",
      "      0     0     0     0     0     0     0     0     0     0     0     0\n",
      "      0     0     0     0     0     0     0     0     0     0     0     0\n",
      "      0     0     0     0     0     0     0     0     0     0     0     0\n",
      "      0     0     0     0     0     0     0     0     0     0     0     0\n",
      "      0     0     0     0     0     0     0     0     0     0     0     0\n",
      "      0     0     0     0     0     0     0     0     0     0     0     0\n",
      "      0     0     0     0     0     0     0     0     0     0     0     0\n",
      "      0     0     0     0     0     0     0     0     0     0     0     0\n",
      "      0     0     0     0     0     0     0     0     0     0     0     0\n",
      "      0     0     0     0     0     0     0     0     0     0     0     0\n",
      "      0     0     0     0     0    28   218    63     4   169  1881     7\n",
      "      4 12507    27    17    30     2   522    10]]\n",
      "torch.Size([1, 200])\n"
     ]
    }
   ]
  }
 ],
 "metadata": {
  "colab": {
   "provenance": [],
   "collapsed_sections": [
    "T007EAWqrMeM"
   ]
  },
  "kernelspec": {
   "display_name": "Python 3",
   "name": "python3"
  },
  "language_info": {
   "name": "python"
  },
  "accelerator": "GPU",
  "gpuClass": "standard"
 },
 "nbformat": 4,
 "nbformat_minor": 0
}
